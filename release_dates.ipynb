{
 "cells": [
  {
   "cell_type": "code",
   "execution_count": 1,
   "metadata": {},
   "outputs": [],
   "source": [
    "# Importar librerías para tratamiento de datos\n",
    "# -----------------------------------------------------------------------\n",
    "import pandas as pd  # Pandas es una poderosa librería para manipulación y análisis de datos en Python.\n",
    "\n",
    "# Importar librerías para web scraping y manipulación de datos\n",
    "# -----------------------------------------------------------------------\n",
    "from bs4 import BeautifulSoup\n",
    "import requests\n",
    "\n",
    "# Importar librerías para automatización de navegadores web con Selenium\n",
    "# -----------------------------------------------------------------------\n",
    "from selenium import webdriver  # Selenium es una herramienta para automatizar la interacción con navegadores web.\n",
    "from webdriver_manager.chrome import ChromeDriverManager  # ChromeDriverManager gestiona la instalación del controlador de Chrome.\n",
    "from selenium.webdriver.common.keys import Keys  # Keys es útil para simular eventos de teclado en Selenium.\n",
    "from selenium.webdriver.support.ui import Select  # Select se utiliza para interactuar con elementos <select> en páginas web.\n",
    "\n",
    "# Importar librerías para pausar la ejecución\n",
    "# -----------------------------------------------------------------------\n",
    "from time import sleep  # Sleep se utiliza para pausar la ejecución del programa por un número de segundos.\n",
    "\n",
    "# Configuraciones\n",
    "# -----------------------------------------------------------------------\n",
    "pd.set_option('display.max_columns', None)  # Establece una opción de Pandas para mostrar todas las columnas de un DataFrame.\n",
    "\n",
    "import numpy as np\n",
    "\n",
    "import re"
   ]
  },
  {
   "cell_type": "code",
   "execution_count": 3,
   "metadata": {},
   "outputs": [],
   "source": [
    "disney = pd.read_csv('files/disney_animation.csv', index_col= 0)\n",
    "ghibli = pd.read_csv('files/Studio Ghibli.csv', index_col= 0)\n",
    "ghibli.reset_index(inplace=True)"
   ]
  },
  {
   "cell_type": "code",
   "execution_count": 4,
   "metadata": {},
   "outputs": [],
   "source": [
    "disney_movies = disney['title'].to_list()\n",
    "ghibli_movies = ghibli['Name'].tolist()"
   ]
  },
  {
   "cell_type": "code",
   "execution_count": 5,
   "metadata": {},
   "outputs": [],
   "source": [
    "ghibli_movies_clean = []\n",
    "for movie in ghibli_movies:\n",
    "    try:\n",
    "        movie_clean = movie.split('\\n')[0]\n",
    "        ghibli_movies_clean.append(movie_clean)\n",
    "\n",
    "    except:\n",
    "        ghibli_movies_clean.append(movie)\n",
    "ghibli_movies = ghibli_movies_clean"
   ]
  },
  {
   "cell_type": "code",
   "execution_count": 6,
   "metadata": {},
   "outputs": [],
   "source": [
    "movies = ghibli_movies + disney_movies"
   ]
  },
  {
   "cell_type": "code",
   "execution_count": 31,
   "metadata": {},
   "outputs": [],
   "source": [
    "def release_dates(lista):\n",
    "    releases=[]\n",
    "    driver = webdriver.Chrome() \n",
    "\n",
    "    url = \"https://www.google.com/\" \n",
    "\n",
    "    driver.get(url)  \n",
    "\n",
    "    driver.maximize_window()\n",
    "\n",
    "    sleep(1)\n",
    "\n",
    "    driver.find_element(\"css selector\", \"#L2AGLb > div\").click() \n",
    "\n",
    "    sleep(1)\n",
    "\n",
    "\n",
    "    for movie in lista:\n",
    "\n",
    "        driver.find_element(\"css selector\", \"#APjFqb\").send_keys(f\"{movie} release info imdb\", Keys.ENTER)  #búsqueda en google\n",
    "\n",
    "        sleep(4)\n",
    "        print(\"----------\")\n",
    "        print(movie)\n",
    "        \n",
    "        #click en el primer resultado\n",
    "        driver.find_element(\"css selector\", \"#rso > div:nth-child(1) > div > div > div.kb0PBd.cvP2Ce.A9Y9g.jGGQ5e > div > div > span > a > div > div > div > div:nth-child(1) > span\").click()\n",
    "        #acceptar cookies\n",
    "        sleep(10)\n",
    "        driver.find_element(\"css selector\", \"#__next > div > div > div.sc-jrcTuL.bPmWiM > div > button.icb-btn.sc-bcXHqe.sc-dkrFOg.sc-iBYQkv.dcvrLS.ddtuHe.dRCGjd\").click() \n",
    "        #ver más\n",
    "        sleep(2)\n",
    "\n",
    "        #driver.find_element(\"css selector\", \"#__next > main > div > section > div > section > div > div.sc-978e9339-1.ihWZgK.ipc-page-grid__item.ipc-page-grid__item--span-2 > section:nth-child(2) > div.sc-f65f65be-0.bBlII > ul > div > span.ipc-see-more.sc-4d3dda93-0.fMZdeF.single-page-see-more-button-releases > button > svg\").click() \n",
    "        \n",
    "\n",
    "        for num in range(1, 5): #cojo elementos\n",
    "            country = driver.find_element(\"css selector\", f\"#rel_{num} > a.ipc-metadata-list-item__label.ipc-metadata-list-item__label--link\").text\n",
    "            date = elemento = driver.find_element(\"css selector\", f\"#rel_{num} > div\").text   \n",
    "            \n",
    "                    \n",
    "            if '(' in date:\n",
    "\n",
    "\n",
    "                date = re.split(r'(?<=\\d{4})', date, maxsplit=1)\n",
    "                #date.split('(')\n",
    "                print(f\"{num}: {movie}, {country}, {date[0]}\")\n",
    "                releases.append({\"pelicula\" : movie, \"country\" :country, \"date\" : date[0], \"filtro\" : date[1]})\n",
    "            else:\n",
    "                print(f\"{num}: {movie}, {country}, {date}\")\n",
    "                releases.append({\"movie\" : movie, \"country\" :country, \"date\" : date})\n",
    "\n",
    "        break\n",
    "    driver.quit()  # Cerrar el navegador al finalizar\n",
    "    return releases"
   ]
  },
  {
   "cell_type": "code",
   "execution_count": 32,
   "metadata": {},
   "outputs": [
    {
     "name": "stdout",
     "output_type": "stream",
     "text": [
      "----------\n",
      "When Marnie Was There\n",
      "1: When Marnie Was There, Japón, 19 de julio de 2014\n",
      "2: When Marnie Was There, Taiwán, 9 de octubre de 2014\n",
      "3: When Marnie Was There, Francia, 14 de enero de 2015\n",
      "4: When Marnie Was There, Países Bajos, 28 de enero de 2015\n"
     ]
    }
   ],
   "source": [
    "releases = release_dates(movies)"
   ]
  },
  {
   "cell_type": "code",
   "execution_count": 34,
   "metadata": {},
   "outputs": [],
   "source": [
    "palabras = ['DVD', 're-release', 'Blu-ray']\n",
    "\n",
    "\n",
    "for release in releases:\n",
    "    if len(release) > 3:\n",
    "        for palabra in palabras:\n",
    "            if palabra in release['filtro']:\n",
    "                releases.remove(release)\n",
    "                \n",
    "                "
   ]
  },
  {
   "cell_type": "code",
   "execution_count": 35,
   "metadata": {},
   "outputs": [
    {
     "data": {
      "text/plain": [
       "[{'movie': 'When Marnie Was There',\n",
       "  'country': 'Japón',\n",
       "  'date': '19 de julio de 2014'},\n",
       " {'movie': 'When Marnie Was There',\n",
       "  'country': 'Taiwán',\n",
       "  'date': '9 de octubre de 2014'},\n",
       " {'movie': 'When Marnie Was There',\n",
       "  'country': 'Francia',\n",
       "  'date': '14 de enero de 2015'},\n",
       " {'pelicula': 'When Marnie Was There',\n",
       "  'country': 'Países Bajos',\n",
       "  'date': '28 de enero de 2015',\n",
       "  'filtro': '(International Film Festival Rotterdam)'}]"
      ]
     },
     "execution_count": 35,
     "metadata": {},
     "output_type": "execute_result"
    }
   ],
   "source": [
    "releases"
   ]
  }
 ],
 "metadata": {
  "kernelspec": {
   "display_name": "base",
   "language": "python",
   "name": "python3"
  },
  "language_info": {
   "codemirror_mode": {
    "name": "ipython",
    "version": 3
   },
   "file_extension": ".py",
   "mimetype": "text/x-python",
   "name": "python",
   "nbconvert_exporter": "python",
   "pygments_lexer": "ipython3",
   "version": "3.11.5"
  }
 },
 "nbformat": 4,
 "nbformat_minor": 2
}
