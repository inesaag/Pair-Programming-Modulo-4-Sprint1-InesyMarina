{
 "cells": [
  {
   "cell_type": "code",
   "execution_count": 53,
   "metadata": {},
   "outputs": [],
   "source": [
    "import pandas as pd\n",
    "from selenium import webdriver  \n",
    "from webdriver_manager.chrome import ChromeDriverManager  \n",
    "from selenium.webdriver.common.keys import Keys \n",
    "from selenium.webdriver.support.ui import Select\n",
    "from selenium.webdriver.common.by import By\n",
    "from selenium.webdriver.common.action_chains import ActionChains\n",
    "from selenium.webdriver.support.ui import WebDriverWait \n",
    "from selenium.webdriver.support import expected_conditions as EC\n",
    "from time import sleep  \n",
    "from selenium.common.exceptions import TimeoutException\n",
    "import re\n",
    "from datetime import datetime"
   ]
  },
  {
   "cell_type": "code",
   "execution_count": 17,
   "metadata": {},
   "outputs": [],
   "source": [
    "disney = pd.read_csv('files/disney_animation.csv', index_col= 0)\n",
    "ghibli = pd.read_csv('files/Studio Ghibli.csv', index_col= 0)\n",
    "ghibli.reset_index(inplace=True)"
   ]
  },
  {
   "cell_type": "code",
   "execution_count": 4,
   "metadata": {},
   "outputs": [],
   "source": [
    "disney = pd.read_csv('files/disney_clean.csv', index_col= 0)\n",
    "disney_movies = disney['title'].to_list()"
   ]
  },
  {
   "cell_type": "code",
   "execution_count": 26,
   "metadata": {},
   "outputs": [],
   "source": [
    "#saco los nombres de las películas de los dataframes\n",
    "disney_movies = disney['title'].to_list()\n",
    "ghibli_movies = ghibli['Name'].tolist()"
   ]
  },
  {
   "cell_type": "code",
   "execution_count": 5,
   "metadata": {},
   "outputs": [],
   "source": [
    "#limpio los nombres de las de ghibli (vienen con el año)\n",
    "ghibli_movies_clean = []\n",
    "for movie in ghibli_movies:\n",
    "    try:\n",
    "        movie_clean = movie.split('\\n')[0]\n",
    "        ghibli_movies_clean.append(movie_clean)\n",
    "\n",
    "    except:\n",
    "        ghibli_movies_clean.append(movie)\n",
    "ghibli_movies = ghibli_movies_clean"
   ]
  },
  {
   "cell_type": "code",
   "execution_count": 54,
   "metadata": {},
   "outputs": [],
   "source": [
    "#creo la función para sacar las fechas de estreno de imdb\n",
    "def release_dates(lista):\n",
    "    releases=[]\n",
    "    driver = webdriver.Chrome() \n",
    "\n",
    "    url = \"https://www.google.com/\" \n",
    "\n",
    "    driver.get(url)  \n",
    "\n",
    "    driver.maximize_window()\n",
    "\n",
    "    sleep(1)\n",
    "\n",
    "    driver.find_element(\"css selector\", \"#L2AGLb > div\").click() \n",
    "\n",
    "    sleep(1)\n",
    "\n",
    "\n",
    "    for movie in lista:\n",
    "\n",
    "        driver.find_element(\"css selector\", \"#APjFqb\").send_keys(f\"{movie} release info imdb\", Keys.ENTER)  #búsqueda en google\n",
    "\n",
    "        sleep(4)\n",
    "        print(\"----------\")\n",
    "        print(movie)\n",
    "        \n",
    "        #click en el primer resultado\n",
    "        driver.find_element(\"css selector\", \"#rso > div:nth-child(1) > div\").click()\n",
    "        #acceptar cookies\n",
    "        driver.find_element(\"css selector\", \"#__next > div > div > div.sc-jrcTuL.bPmWiM > div > button.icb-btn.sc-bcXHqe.sc-dkrFOg.sc-iBYQkv.dcvrLS.ddtuHe.dRCGjd\").click() \n",
    "        \n",
    "        sleep(10)\n",
    "        #ver más\n",
    "        espera = 10\n",
    "        elemento = WebDriverWait(driver, espera).until(EC.presence_of_element_located((By.XPATH, '//*[@id=\"__next\"]/main/div/section/div/section/div/div[1]/section[1]/div[2]/ul/div/span[2]/button')))           \n",
    "        elemento.click()\n",
    "      \n",
    "        for num in range(1, 21): #cojo elementos, cuando pueda hacer click en el 50 más habrá que subir los números\n",
    "            country = driver.find_element(\"css selector\", f\"#rel_{num} > a.ipc-metadata-list-item__label.ipc-metadata-list-item__label--link\").text\n",
    "            date = elemento = driver.find_element(\"css selector\", f\"#rel_{num} > div\").text   \n",
    "                                \n",
    "            if '(' in date:\n",
    "                date = re.split(r'(?<=\\d{4})', date, maxsplit=1)\n",
    "                #date.split('(')\n",
    "                print(f\"{num}: {movie}, {country}, {date[0]}\")\n",
    "                releases.append({\"movie\" : movie, \"country\" :country, \"date\" : date[0], \"filtro\" : date[1]})\n",
    "            else:\n",
    "                print(f\"{num}: {movie}, {country}, {date}\")\n",
    "                releases.append({\"movie\" : movie, \"country\" :country, \"date\" : date})\n",
    "        driver.back()\n",
    "        limpieza = WebDriverWait(driver, 5).until(EC.presence_of_element_located((By.CSS_SELECTOR, \"#tsf > div:nth-child(1) > div.A8SBwf > div.RNNXgb > div > div.dRYYxd > div.BKRPef > div\")))\n",
    "        limpieza.click()\n",
    "    driver.quit()  # Cerrar el navegador al finalizar\n",
    "    return releases"
   ]
  },
  {
   "cell_type": "code",
   "execution_count": null,
   "metadata": {},
   "outputs": [],
   "source": [
    "ghibli_releases = release_dates(ghibli_movies)"
   ]
  },
  {
   "cell_type": "code",
   "execution_count": null,
   "metadata": {},
   "outputs": [],
   "source": [
    "disney_releases = release_dates(disney_movies)"
   ]
  },
  {
   "cell_type": "code",
   "execution_count": 14,
   "metadata": {},
   "outputs": [],
   "source": [
    "palabras = ['DVD', 're-release', 'Blu-ray']\n",
    "\n",
    "\n",
    "for release in disney_releases:\n",
    "    if len(release) > 3:\n",
    "        for palabra in palabras:\n",
    "            if palabra in release['filtro']:\n",
    "                disney_releases.remove(release)\n",
    "                \n",
    "                "
   ]
  },
  {
   "cell_type": "code",
   "execution_count": 15,
   "metadata": {},
   "outputs": [],
   "source": [
    "#despues de la limpieza quitamos todos los \"filtro que han quedado\"\n",
    "for release in disney_releases:\n",
    "    if len(release) > 3:\n",
    "        release.popitem()        "
   ]
  },
  {
   "cell_type": "code",
   "execution_count": 32,
   "metadata": {},
   "outputs": [],
   "source": [
    "#convertir en dataframe\n",
    "df_disney = pd.DataFrame(disney_releases)\n",
    "df_ghibli = pd.DataFrame(ghibli_releases)"
   ]
  },
  {
   "cell_type": "code",
   "execution_count": 20,
   "metadata": {},
   "outputs": [],
   "source": [
    "releases = pd.concat([df_disney, df_ghibli], axis=0)\n"
   ]
  },
  {
   "cell_type": "code",
   "execution_count": 41,
   "metadata": {},
   "outputs": [],
   "source": [
    "#modificar la columna date para poder unificarla \n",
    "def replace_month(date):\n",
    "    meses = {\n",
    "    'enero': 'january',\n",
    "    'febrero': 'February',\n",
    "    'marzo': 'March',\n",
    "    'abril': 'April',\n",
    "    'mayo': 'May',\n",
    "    'junio': 'June',\n",
    "    'julio': 'July',\n",
    "    'agosto': 'August',\n",
    "    'septiembre': 'September',\n",
    "    'octubre': 'October',\n",
    "    'noviembre': 'November',\n",
    "    'diciembre': 'December'}\n",
    "    date = date.replace(' de ', ' ')\n",
    "    for mes_es, mes_en in meses.items():\n",
    "        date = date.replace(mes_es, mes_en)\n",
    "    return date\n"
   ]
  },
  {
   "cell_type": "code",
   "execution_count": 42,
   "metadata": {},
   "outputs": [],
   "source": [
    "#aplico la funcion\n",
    "releases['date'] = releases['date'].apply(lambda x: replace_month(x))"
   ]
  },
  {
   "cell_type": "code",
   "execution_count": 49,
   "metadata": {},
   "outputs": [],
   "source": [
    "#pasarla a datetime:\n",
    "def convert_datetime(date_string):\n",
    "    try:\n",
    "        return pd.to_datetime(date_string, format='%d %B %Y')\n",
    "    except ValueError:\n",
    "        try:\n",
    "            return pd.to_datetime(date_string, format='%B %Y')\n",
    "        except ValueError:\n",
    "            try:\n",
    "                return pd.to_datetime(date_string, format='%Y')\n",
    "            except ValueError:\n",
    "                return pd.to_datetime(date_string, format='%B %d, %Y')\n"
   ]
  },
  {
   "cell_type": "code",
   "execution_count": 50,
   "metadata": {},
   "outputs": [],
   "source": [
    "#aplico la funcion\n",
    "releases['date'] = releases['date'].apply(convert_datetime)"
   ]
  },
  {
   "cell_type": "code",
   "execution_count": null,
   "metadata": {},
   "outputs": [],
   "source": [
    "releases.to_csv('files/total_releases.csv')"
   ]
  }
 ],
 "metadata": {
  "kernelspec": {
   "display_name": "base",
   "language": "python",
   "name": "python3"
  },
  "language_info": {
   "codemirror_mode": {
    "name": "ipython",
    "version": 3
   },
   "file_extension": ".py",
   "mimetype": "text/x-python",
   "name": "python",
   "nbconvert_exporter": "python",
   "pygments_lexer": "ipython3",
   "version": "3.11.5"
  }
 },
 "nbformat": 4,
 "nbformat_minor": 2
}
