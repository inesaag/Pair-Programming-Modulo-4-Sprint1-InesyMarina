{
 "cells": [
  {
   "cell_type": "code",
   "execution_count": 1,
   "metadata": {},
   "outputs": [],
   "source": [
    "import pandas as pd\n",
    "from selenium import webdriver  \n",
    "from webdriver_manager.chrome import ChromeDriverManager  \n",
    "from selenium.webdriver.common.keys import Keys \n",
    "from selenium.webdriver.support.ui import Select\n",
    "from time import sleep  \n",
    "import re\n",
    "from datetime import datetime"
   ]
  },
  {
   "cell_type": "code",
   "execution_count": 14,
   "metadata": {},
   "outputs": [],
   "source": [
    "from selenium import webdriver\n",
    "from webdriver_manager.chrome import ChromeDriverManager  \n",
    "from selenium.webdriver.common.keys import Keys  \n",
    "from selenium.webdriver.common.action_chains import ActionChains\n",
    "from selenium.webdriver.support.ui import Select \n",
    "from selenium.webdriver.support.ui import WebDriverWait \n",
    "from selenium.webdriver.support import expected_conditions as EC\n",
    "from selenium.webdriver.common.by import By\n",
    "from selenium.common.exceptions import TimeoutException"
   ]
  },
  {
   "cell_type": "code",
   "execution_count": 2,
   "metadata": {},
   "outputs": [],
   "source": [
    "disney = pd.read_csv('files/disney_animation.csv', index_col= 0)\n",
    "ghibli = pd.read_csv('files/Studio Ghibli.csv', index_col= 0)\n",
    "ghibli.reset_index(inplace=True)"
   ]
  },
  {
   "cell_type": "code",
   "execution_count": 3,
   "metadata": {},
   "outputs": [],
   "source": [
    "#saco los nombres de las películas de los dataframes\n",
    "disney_movies = disney['title'].to_list()\n",
    "ghibli_movies = ghibli['Name'].tolist()"
   ]
  },
  {
   "cell_type": "code",
   "execution_count": 4,
   "metadata": {},
   "outputs": [],
   "source": [
    "#limpio los nombres de las de ghibli (vienen con el año)\n",
    "ghibli_movies_clean = []\n",
    "for movie in ghibli_movies:\n",
    "    try:\n",
    "        movie_clean = movie.split('\\n')[0]\n",
    "        ghibli_movies_clean.append(movie_clean)\n",
    "\n",
    "    except:\n",
    "        ghibli_movies_clean.append(movie)\n",
    "ghibli_movies = ghibli_movies_clean"
   ]
  },
  {
   "cell_type": "code",
   "execution_count": 5,
   "metadata": {},
   "outputs": [],
   "source": [
    "#unifico las listas\n",
    "movies = ghibli_movies + disney_movies"
   ]
  },
  {
   "cell_type": "code",
   "execution_count": 17,
   "metadata": {},
   "outputs": [],
   "source": [
    "#creo la función para sacar las fechas de estreno de imdb\n",
    "def release_dates(lista):\n",
    "    releases=[]\n",
    "    driver = webdriver.Chrome() \n",
    "\n",
    "    url = \"https://www.google.com/\" \n",
    "\n",
    "    driver.get(url)  \n",
    "\n",
    "    driver.maximize_window()\n",
    "\n",
    "    sleep(1)\n",
    "\n",
    "    driver.find_element(\"css selector\", \"#L2AGLb > div\").click() \n",
    "\n",
    "    sleep(1)\n",
    "\n",
    "\n",
    "    for movie in lista:\n",
    "\n",
    "        driver.find_element(\"css selector\", \"#APjFqb\").send_keys(f\"{movie} release info imdb\", Keys.ENTER)  #búsqueda en google\n",
    "\n",
    "        sleep(4)\n",
    "        print(\"----------\")\n",
    "        print(movie)\n",
    "        \n",
    "        #click en el primer resultado\n",
    "        driver.find_element(\"css selector\", \"#rso > div:nth-child(1) > div > div > div.kb0PBd.cvP2Ce.A9Y9g.jGGQ5e > div > div > span > a > div > div > div > div:nth-child(1) > span\").click()\n",
    "        #acceptar cookies\n",
    "        sleep(5)\n",
    "        driver.find_element(\"css selector\", \"#__next > div > div > div.sc-jrcTuL.bPmWiM > div > button.icb-btn.sc-bcXHqe.sc-dkrFOg.sc-iBYQkv.dcvrLS.ddtuHe.dRCGjd\").click() \n",
    "        \n",
    "        sleep(10)\n",
    "        #ver más\n",
    "        #espera = 10\n",
    "        #elemento = WebDriverWait(driver, espera).until(EC.presence_of_element_located((By.XPATH, '//*[@id=\"__next\"]/main/div/section/div/section/div/div[1]/section[1]/div[2]/ul/div/span[2]/button')))           \n",
    "        #elemento.click()\n",
    "\n",
    "\n",
    "        #no consigo que haga click en el \"50 mas\"\n",
    "\n",
    "        for num in range(1, 20): #cojo elementos, cuando pueda hacer click en el 50 más habrá que subir los números\n",
    "            country = driver.find_element(\"css selector\", f\"#rel_{num} > a.ipc-metadata-list-item__label.ipc-metadata-list-item__label--link\").text\n",
    "            date = elemento = driver.find_element(\"css selector\", f\"#rel_{num} > div\").text   \n",
    "                                \n",
    "            if '(' in date:\n",
    "                date = re.split(r'(?<=\\d{4})', date, maxsplit=1)\n",
    "                #date.split('(')\n",
    "                print(f\"{num}: {movie}, {country}, {date[0]}\")\n",
    "                releases.append({\"pelicula\" : movie, \"country\" :country, \"date\" : date[0], \"filtro\" : date[1]})\n",
    "            else:\n",
    "                print(f\"{num}: {movie}, {country}, {date}\")\n",
    "                releases.append({\"movie\" : movie, \"country\" :country, \"date\" : date})\n",
    "\n",
    "    \n",
    "    driver.quit()  # Cerrar el navegador al finalizar\n",
    "    return releases"
   ]
  },
  {
   "cell_type": "code",
   "execution_count": 18,
   "metadata": {},
   "outputs": [
    {
     "name": "stdout",
     "output_type": "stream",
     "text": [
      "----------\n",
      "When Marnie Was There\n",
      "1: When Marnie Was There, Japón, 19 de julio de 2014\n",
      "2: When Marnie Was There, Taiwán, 9 de octubre de 2014\n",
      "3: When Marnie Was There, Francia, 14 de enero de 2015\n",
      "4: When Marnie Was There, Países Bajos, 28 de enero de 2015\n",
      "5: When Marnie Was There, Bélgica, 11 de febrero de 2015\n",
      "6: When Marnie Was There, Estados Unidos, 27 de febrero de 2015\n"
     ]
    }
   ],
   "source": [
    "releases = release_dates(movies)"
   ]
  },
  {
   "cell_type": "code",
   "execution_count": 34,
   "metadata": {},
   "outputs": [],
   "source": [
    "palabras = ['DVD', 're-release', 'Blu-ray']\n",
    "\n",
    "\n",
    "for release in releases:\n",
    "    if len(release) > 3:\n",
    "        for palabra in palabras:\n",
    "            if palabra in release['filtro']:\n",
    "                releases.remove(release)\n",
    "                \n",
    "                "
   ]
  },
  {
   "cell_type": "code",
   "execution_count": 35,
   "metadata": {},
   "outputs": [
    {
     "data": {
      "text/plain": [
       "[{'movie': 'When Marnie Was There',\n",
       "  'country': 'Japón',\n",
       "  'date': '19 de julio de 2014'},\n",
       " {'movie': 'When Marnie Was There',\n",
       "  'country': 'Taiwán',\n",
       "  'date': '9 de octubre de 2014'},\n",
       " {'movie': 'When Marnie Was There',\n",
       "  'country': 'Francia',\n",
       "  'date': '14 de enero de 2015'},\n",
       " {'pelicula': 'When Marnie Was There',\n",
       "  'country': 'Países Bajos',\n",
       "  'date': '28 de enero de 2015',\n",
       "  'filtro': '(International Film Festival Rotterdam)'}]"
      ]
     },
     "execution_count": 35,
     "metadata": {},
     "output_type": "execute_result"
    }
   ],
   "source": [
    "releases"
   ]
  },
  {
   "cell_type": "code",
   "execution_count": 44,
   "metadata": {},
   "outputs": [],
   "source": [
    "#despues de la limpieza quitamos todos los \"filtro que han quedado\"\n",
    "for release in releases:\n",
    "    if len(release) > 3:\n",
    "        release.popitem()        "
   ]
  },
  {
   "cell_type": "code",
   "execution_count": null,
   "metadata": {},
   "outputs": [],
   "source": [
    "#convertir en dataframe"
   ]
  },
  {
   "cell_type": "code",
   "execution_count": null,
   "metadata": {},
   "outputs": [],
   "source": [
    "#modificar la columna date con el siguiente código:"
   ]
  },
  {
   "cell_type": "code",
   "execution_count": 49,
   "metadata": {},
   "outputs": [],
   "source": [
    "date = '28 de enero de 2015'"
   ]
  },
  {
   "cell_type": "code",
   "execution_count": 51,
   "metadata": {},
   "outputs": [
    {
     "name": "stdout",
     "output_type": "stream",
     "text": [
      "2015-01-28 00:00:00\n"
     ]
    }
   ],
   "source": [
    "meses = {\n",
    "    'enero': 'january',\n",
    "    'febrero': 'February',\n",
    "    'marzo': 'March',\n",
    "    'abril': 'April',\n",
    "    'mayo': 'May',\n",
    "    'junio': 'June',\n",
    "    'julio': 'July',\n",
    "    'agosto': 'August',\n",
    "    'septiembre': 'September',\n",
    "    'octubre': 'October',\n",
    "    'noviembre': 'November',\n",
    "    'diciembre': 'December'\n",
    "}\n",
    "\n",
    "for mes_es, mes_en in meses.items():\n",
    "    date = date.replace(mes_es, mes_en)\n",
    "date1 = pd.to_datetime(date, format='%d de %B de %Y')\n",
    "print(date1)"
   ]
  }
 ],
 "metadata": {
  "kernelspec": {
   "display_name": "base",
   "language": "python",
   "name": "python3"
  },
  "language_info": {
   "codemirror_mode": {
    "name": "ipython",
    "version": 3
   },
   "file_extension": ".py",
   "mimetype": "text/x-python",
   "name": "python",
   "nbconvert_exporter": "python",
   "pygments_lexer": "ipython3",
   "version": "3.11.5"
  }
 },
 "nbformat": 4,
 "nbformat_minor": 2
}
